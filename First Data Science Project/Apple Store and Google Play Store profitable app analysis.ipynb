{
 "cells": [
  {
   "cell_type": "markdown",
   "metadata": {},
   "source": [
    "# Apple Store and Google Play Store profitable app analysis\n",
    "\n",
    "This project is to find out which mobile apps are profitable in Apple Store and Google Play Store.\n",
    "\n",
    "The goal for this proejct is to drow a data-driven decisions with respect to the kind of apps will be made in the future.\n",
    "We are going to find out what kind of apps attract more users on Apple Store and Google Play Store."
   ]
  },
  {
   "cell_type": "markdown",
   "metadata": {},
   "source": [
    "# Opening and Exploring the Data\n",
    "\n",
    "googleplaystore.csv and AppleStore.csv are:\n",
    "\n",
    "- [A data set](https://www.kaggle.com/lava18/google-play-store-apps/home) containing data about approximately 10,000 Android apps from Google Play; the data was collected in August 2018.\n",
    "- [A data set](https://www.kaggle.com/ramamet4/app-store-apple-data-set-10k-apps/home) containing data about approximately 7,000 iOS apps from the App Store; the data was collected in July 2017."
   ]
  },
  {
   "cell_type": "markdown",
   "metadata": {},
   "source": [
    "The open_file() function takes in two parameters:\n",
    "\n",
    "- filename: a file name that needs to be read\n",
    "- header: 'True' by default if the file contains a header row, 'False' if the file doesn't contain a header row"
   ]
  },
  {
   "cell_type": "code",
   "execution_count": 1,
   "metadata": {},
   "outputs": [],
   "source": [
    "def open_file(filename, header=True):\n",
    "    opened_file = open(filename, encoding='utf8')\n",
    "    from csv import reader\n",
    "    read_file = reader(opened_file)\n",
    "    data = list(read_file)\n",
    "    \n",
    "    if header:\n",
    "        return data[0], data[1:]\n",
    "    else:\n",
    "        return data\n",
    "    \n",
    "apple_header, apple_data = open_file('AppleStore.csv')\n",
    "google_header, google_data = open_file('googleplaystore.csv')"
   ]
  },
  {
   "cell_type": "markdown",
   "metadata": {},
   "source": [
    "The explore_data() function takes in four parameters:\n",
    "\n",
    "- dataset: expected to be a list of lists\n",
    "- start and end: expected to be integers and represents the starting and the ending indices of a slice from the data set\n",
    "- rows_and_columns: expected to be boolean and has false as a default argument. Ture if you want to see number of rows and columns."
   ]
  },
  {
   "cell_type": "code",
   "execution_count": 2,
   "metadata": {},
   "outputs": [],
   "source": [
    "def explore_data(dataset, start, end, rows_and_columns=False):\n",
    "    dataset_slice = dataset[start:end]\n",
    "    for row in dataset_slice:\n",
    "        print(row)\n",
    "        print('\\n')\n",
    "        \n",
    "    if rows_and_columns:\n",
    "        print('Number of rows: ', len(dataset))\n",
    "        print('Number of columns: ', len(dataset[0]))"
   ]
  },
  {
   "cell_type": "code",
   "execution_count": 3,
   "metadata": {},
   "outputs": [
    {
     "name": "stdout",
     "output_type": "stream",
     "text": [
      "This is Apple Store data:\n",
      "\n",
      "['id', 'track_name', 'size_bytes', 'currency', 'price', 'rating_count_tot', 'rating_count_ver', 'user_rating', 'user_rating_ver', 'ver', 'cont_rating', 'prime_genre', 'sup_devices.num', 'ipadSc_urls.num', 'lang.num', 'vpp_lic']\n",
      "\n",
      "\n",
      "['284882215', 'Facebook', '389879808', 'USD', '0.0', '2974676', '212', '3.5', '3.5', '95.0', '4+', 'Social Networking', '37', '1', '29', '1']\n",
      "\n",
      "\n",
      "['389801252', 'Instagram', '113954816', 'USD', '0.0', '2161558', '1289', '4.5', '4.0', '10.23', '12+', 'Photo & Video', '37', '0', '29', '1']\n",
      "\n",
      "\n",
      "['529479190', 'Clash of Clans', '116476928', 'USD', '0.0', '2130805', '579', '4.5', '4.5', '9.24.12', '9+', 'Games', '38', '5', '18', '1']\n",
      "\n",
      "\n",
      "Number of rows:  7197\n",
      "Number of columns:  16\n"
     ]
    }
   ],
   "source": [
    "print('This is Apple Store data:\\n')\n",
    "print(apple_header)\n",
    "print('\\n')\n",
    "explore_data(apple_data, 0, 3, True)"
   ]
  },
  {
   "cell_type": "markdown",
   "metadata": {},
   "source": [
    "With a quick glance of the data, the columns that might be useful for the purpose of our analysis are 'track_name', 'currency', 'price', 'rating_count_tot' and 'prime_genre'. Details about each column can be found at [documentation](https://www.kaggle.com/ramamet4/app-store-apple-data-set-10k-apps/home)."
   ]
  },
  {
   "cell_type": "code",
   "execution_count": 4,
   "metadata": {},
   "outputs": [
    {
     "name": "stdout",
     "output_type": "stream",
     "text": [
      "\n",
      "This is Google Play Store data:\n",
      "\n",
      "['App', 'Category', 'Rating', 'Reviews', 'Size', 'Installs', 'Type', 'Price', 'Content Rating', 'Genres', 'Last Updated', 'Current Ver', 'Android Ver']\n",
      "\n",
      "\n",
      "['Photo Editor & Candy Camera & Grid & ScrapBook', 'ART_AND_DESIGN', '4.1', '159', '19M', '10,000+', 'Free', '0', 'Everyone', 'Art & Design', 'January 7, 2018', '1.0.0', '4.0.3 and up']\n",
      "\n",
      "\n",
      "['Coloring book moana', 'ART_AND_DESIGN', '3.9', '967', '14M', '500,000+', 'Free', '0', 'Everyone', 'Art & Design;Pretend Play', 'January 15, 2018', '2.0.0', '4.0.3 and up']\n",
      "\n",
      "\n",
      "['U Launcher Lite – FREE Live Cool Themes, Hide Apps', 'ART_AND_DESIGN', '4.7', '87510', '8.7M', '5,000,000+', 'Free', '0', 'Everyone', 'Art & Design', 'August 1, 2018', '1.2.4', '4.0.3 and up']\n",
      "\n",
      "\n",
      "Number of rows:  10841\n",
      "Number of columns:  13\n"
     ]
    }
   ],
   "source": [
    "print('\\nThis is Google Play Store data:\\n')\n",
    "print(google_header)\n",
    "print('\\n')\n",
    "explore_data(google_data, 0, 3, True)"
   ]
  },
  {
   "cell_type": "markdown",
   "metadata": {},
   "source": [
    "With a quick glance of the data, the columns that might be useful for the purpose of our analysis are 'App', 'Category', 'Reviews', 'Installs', 'Type', 'Price' and 'Genre'. Details about each column can be found at [documentation](https://www.kaggle.com/lava18/google-play-store-apps/home)."
   ]
  },
  {
   "cell_type": "markdown",
   "metadata": {},
   "source": [
    "# Data Cleaning\n",
    "\n",
    "Data cleaning is about removing or correcting wrong data, removing duplicate data, and modifying the data to fit the purpose of analysis.\n",
    "\n",
    "In this section, I am going to perform Data Cleaning which:\n",
    "- Detect inaccurate data, and correct or remove it\n",
    "- Detect duplicate data, and remove the duplicates\n",
    "To narrow down the targets towards an English-Speaking audience and free apps, I will:\n",
    "- Remove non-English apps\n",
    "- Remove apps that aren't free"
   ]
  },
  {
   "cell_type": "markdown",
   "metadata": {},
   "source": [
    "# Removing Wrong Data"
   ]
  },
  {
   "cell_type": "code",
   "execution_count": 5,
   "metadata": {},
   "outputs": [
    {
     "name": "stdout",
     "output_type": "stream",
     "text": [
      "['App', 'Category', 'Rating', 'Reviews', 'Size', 'Installs', 'Type', 'Price', 'Content Rating', 'Genres', 'Last Updated', 'Current Ver', 'Android Ver']\n",
      "\n",
      "\n",
      "Wrong row: \n",
      "['Life Made WI-Fi Touchscreen Photo Frame', '1.9', '19', '3.0M', '1,000+', 'Free', '0', 'Everyone', '', 'February 11, 2018', '1.0.19', '4.0 and up']\n",
      "\n",
      "\n",
      "Index of the wrong row: \n",
      "10472\n",
      "\n",
      "\n",
      "Correct one: \n",
      "['Photo Editor & Candy Camera & Grid & ScrapBook', 'ART_AND_DESIGN', '4.1', '159', '19M', '10,000+', 'Free', '0', 'Everyone', 'Art & Design', 'January 7, 2018', '1.0.0', '4.0.3 and up']\n",
      "\n",
      "\n"
     ]
    }
   ],
   "source": [
    "for row in google_data:\n",
    "    column_length = len(google_header)\n",
    "    row_length = len(row) \n",
    "    if row_length != column_length:\n",
    "        print(google_header)  # header\n",
    "        print('\\n')\n",
    "        print('Wrong row: ')\n",
    "        print(row)\n",
    "        print('\\n')\n",
    "        print('Index of the wrong row: ')\n",
    "        print(google_data.index(row))\n",
    "\n",
    "print('\\n')\n",
    "print('Correct one: ')\n",
    "print(google_data[0]) # correct row\n",
    "print('\\n')"
   ]
  },
  {
   "cell_type": "markdown",
   "metadata": {},
   "source": [
    "Column 10472 is shifted to the left by one from 'Category' to 'Android Ver' which should be deleted from the data set.\n",
    "\n",
    "Delete the wrong row from the data set."
   ]
  },
  {
   "cell_type": "code",
   "execution_count": 6,
   "metadata": {},
   "outputs": [
    {
     "name": "stdout",
     "output_type": "stream",
     "text": [
      "Length of the data before deletion:  10841\n",
      "Length of the data after deletion:  10841\n"
     ]
    }
   ],
   "source": [
    "print('Length of the data before deletion: ', len(google_data))\n",
    "#del android[10472]  # don't run this more than once\n",
    "print('Length of the data after deletion: ', len(google_data))\n"
   ]
  },
  {
   "cell_type": "markdown",
   "metadata": {},
   "source": [
    "Performing same process with Apple Store data set"
   ]
  },
  {
   "cell_type": "code",
   "execution_count": 7,
   "metadata": {},
   "outputs": [],
   "source": [
    "for row in apple_data:\n",
    "    column_length = len(apple_header)\n",
    "    row_length = len(row)\n",
    "    if row_length != column_length:\n",
    "        print(apple_header) # header\n",
    "        print('\\n')\n",
    "        print('Wrong row: ')\n",
    "        print(row)\n",
    "        print('\\n')\n",
    "        print('Index of the wrong row: ')\n",
    "        print(apple_data.index(row))"
   ]
  },
  {
   "cell_type": "markdown",
   "metadata": {},
   "source": [
    "Can't seem to find wrong data row in apple data set"
   ]
  },
  {
   "cell_type": "markdown",
   "metadata": {},
   "source": [
    "# Removing Duplicate Data"
   ]
  },
  {
   "cell_type": "code",
   "execution_count": 8,
   "metadata": {},
   "outputs": [
    {
     "name": "stdout",
     "output_type": "stream",
     "text": [
      "['App', 'Category', 'Rating', 'Reviews', 'Size', 'Installs', 'Type', 'Price', 'Content Rating', 'Genres', 'Last Updated', 'Current Ver', 'Android Ver']\n",
      "['10 Best Foods for You', 'HEALTH_AND_FITNESS', '4.0', '2490', '3.8M', '500,000+', 'Free', '0', 'Everyone 10+', 'Health & Fitness', 'February 17, 2017', '1.9', '2.3.3 and up']\n",
      "['10 Best Foods for You', 'HEALTH_AND_FITNESS', '4.0', '2490', '3.8M', '500,000+', 'Free', '0', 'Everyone 10+', 'Health & Fitness', 'February 17, 2017', '1.9', '2.3.3 and up']\n"
     ]
    }
   ],
   "source": [
    "print(google_header)\n",
    "for app in google_data:\n",
    "    name = app[0]\n",
    "    if name == '10 Best Foods for You':\n",
    "        print(app)"
   ]
  },
  {
   "cell_type": "markdown",
   "metadata": {},
   "source": [
    "Now try to find all of the duplicate data."
   ]
  },
  {
   "cell_type": "code",
   "execution_count": 9,
   "metadata": {},
   "outputs": [
    {
     "name": "stdout",
     "output_type": "stream",
     "text": [
      "Number of duplicate apps in Google Play Store :  1181\n"
     ]
    }
   ],
   "source": [
    "unique_apps = []\n",
    "duplicate_apps = []\n",
    "\n",
    "for app in google_data:\n",
    "    name = app[0]\n",
    "    if name in unique_apps:\n",
    "        duplicate_apps.append(name)\n",
    "    else:\n",
    "        unique_apps.append(name)\n",
    "\n",
    "print('Number of duplicate apps in Google Play Store : ',len(duplicate_apps))"
   ]
  },
  {
   "cell_type": "code",
   "execution_count": 10,
   "metadata": {},
   "outputs": [
    {
     "name": "stdout",
     "output_type": "stream",
     "text": [
      "Data including duplicates:  10841\n",
      "Expected data length:  9660\n",
      "Data after clean up:  9660\n"
     ]
    }
   ],
   "source": [
    "reviews_max = {}\n",
    "for app in google_data:\n",
    "    name = app[0]\n",
    "    review = app[3]\n",
    "    if name in reviews_max and reviews_max[name] < review:\n",
    "        reviews_max[name] = review\n",
    "    elif name not in reviews_max:\n",
    "        reviews_max[name] = review\n",
    "        \n",
    "print('Data including duplicates: ',len(google_data))\n",
    "print('Expected data length: ',len(google_data) - 1181)\n",
    "print('Data after clean up: ',len(reviews_max))"
   ]
  },
  {
   "cell_type": "code",
   "execution_count": 11,
   "metadata": {},
   "outputs": [
    {
     "name": "stdout",
     "output_type": "stream",
     "text": [
      "['App', 'Category', 'Rating', 'Reviews', 'Size', 'Installs', 'Type', 'Price', 'Content Rating', 'Genres', 'Last Updated', 'Current Ver', 'Android Ver'] \n",
      "\n",
      "['Photo Editor & Candy Camera & Grid & ScrapBook', 'ART_AND_DESIGN', '4.1', '159', '19M', '10,000+', 'Free', '0', 'Everyone', 'Art & Design', 'January 7, 2018', '1.0.0', '4.0.3 and up']\n",
      "\n",
      "\n",
      "['U Launcher Lite – FREE Live Cool Themes, Hide Apps', 'ART_AND_DESIGN', '4.7', '87510', '8.7M', '5,000,000+', 'Free', '0', 'Everyone', 'Art & Design', 'August 1, 2018', '1.2.4', '4.0.3 and up']\n",
      "\n",
      "\n",
      "['Sketch - Draw & Paint', 'ART_AND_DESIGN', '4.5', '215644', '25M', '50,000,000+', 'Free', '0', 'Teen', 'Art & Design', 'June 8, 2018', 'Varies with device', '4.2 and up']\n",
      "\n",
      "\n",
      "Number of rows:  9660\n",
      "Number of columns:  13\n"
     ]
    }
   ],
   "source": [
    "google_clean_data = []\n",
    "google_already_added_app = []\n",
    "\n",
    "for app in google_data:\n",
    "    name = app[0]\n",
    "    review = app[3]\n",
    "    if (reviews_max[name] == review) and (name not in google_already_added_app):\n",
    "        google_clean_data.append(app)\n",
    "        google_already_added_app.append(name)\n",
    "\n",
    "print(google_header,'\\n')\n",
    "explore_data(google_clean_data, 0, 3, True)"
   ]
  },
  {
   "cell_type": "code",
   "execution_count": 12,
   "metadata": {},
   "outputs": [
    {
     "name": "stdout",
     "output_type": "stream",
     "text": [
      "['Mannequin Challenge', 'VR Roller Coaster']\n",
      "Number of duplicate apps in Apple App Store :  2\n"
     ]
    }
   ],
   "source": [
    "duplicate_apps = []\n",
    "unique_apps = []\n",
    "for app in apple_data:\n",
    "    name = app[1]\n",
    "    if name in unique_apps:\n",
    "        duplicate_apps.append(name)\n",
    "    else:\n",
    "        unique_apps.append(name)\n",
    "        \n",
    "print(duplicate_apps)\n",
    "print('Number of duplicate apps in Apple App Store : ',len(duplicate_apps))"
   ]
  },
  {
   "cell_type": "code",
   "execution_count": 13,
   "metadata": {},
   "outputs": [
    {
     "name": "stdout",
     "output_type": "stream",
     "text": [
      "Apple Store Data before clean up:  7197\n",
      "Expected number of data after clean up:  7195\n",
      "Apple Store Data after clean up:  7195\n"
     ]
    }
   ],
   "source": [
    "rating_count_max = {}\n",
    "for app in apple_data:\n",
    "    name = app[1]\n",
    "    rating_count_tot = app[5]\n",
    "    if name in rating_count_max and rating_count_max[name] < rating_count_tot:\n",
    "        rating_count_max[name] = rating_count_tot\n",
    "    elif name not in rating_count_max:\n",
    "        rating_count_max[name] = rating_count_tot\n",
    "        \n",
    "print('Apple Store Data before clean up: ', len(apple_data))\n",
    "print('Expected number of data after clean up: ',len(apple_data) - 2)\n",
    "print('Apple Store Data after clean up: ', len(rating_count_max))"
   ]
  },
  {
   "cell_type": "code",
   "execution_count": 14,
   "metadata": {},
   "outputs": [
    {
     "name": "stdout",
     "output_type": "stream",
     "text": [
      "['id', 'track_name', 'size_bytes', 'currency', 'price', 'rating_count_tot', 'rating_count_ver', 'user_rating', 'user_rating_ver', 'ver', 'cont_rating', 'prime_genre', 'sup_devices.num', 'ipadSc_urls.num', 'lang.num', 'vpp_lic'] \n",
      "\n",
      "['284882215', 'Facebook', '389879808', 'USD', '0.0', '2974676', '212', '3.5', '3.5', '95.0', '4+', 'Social Networking', '37', '1', '29', '1']\n",
      "\n",
      "\n",
      "['389801252', 'Instagram', '113954816', 'USD', '0.0', '2161558', '1289', '4.5', '4.0', '10.23', '12+', 'Photo & Video', '37', '0', '29', '1']\n",
      "\n",
      "\n",
      "['529479190', 'Clash of Clans', '116476928', 'USD', '0.0', '2130805', '579', '4.5', '4.5', '9.24.12', '9+', 'Games', '38', '5', '18', '1']\n",
      "\n",
      "\n",
      "Number of rows:  7195\n",
      "Number of columns:  16\n"
     ]
    }
   ],
   "source": [
    "apple_clean_data = []\n",
    "already_added_apple_data = []\n",
    "for app in apple_data:\n",
    "    name = app[1]\n",
    "    rating_count_tot = app[5]\n",
    "    if name not in already_added_apple_data and rating_count_max[name] == rating_count_tot:\n",
    "        apple_clean_data.append(app)\n",
    "        already_added_apple_data.append(name)\n",
    "\n",
    "print(apple_header,'\\n')\n",
    "explore_data(apple_clean_data, 0, 3, True)"
   ]
  },
  {
   "cell_type": "markdown",
   "metadata": {},
   "source": [
    "# Isolating the non-English Apps\n",
    "\n",
    "I am going to isolate the non-English Apps from the data since the target for this project is 'English Speakers'."
   ]
  },
  {
   "cell_type": "code",
   "execution_count": 15,
   "metadata": {},
   "outputs": [
    {
     "name": "stdout",
     "output_type": "stream",
     "text": [
      "True\n",
      "False\n"
     ]
    }
   ],
   "source": [
    "def is_english(string):\n",
    "    for character in string:\n",
    "        if ord(character) > 127:\n",
    "            return False\n",
    "    return True\n",
    "\n",
    "print(is_english('Min Oh'))\n",
    "print(is_english('오승민'))"
   ]
  },
  {
   "cell_type": "code",
   "execution_count": 16,
   "metadata": {},
   "outputs": [
    {
     "name": "stdout",
     "output_type": "stream",
     "text": [
      "True\n",
      "False\n",
      "True\n",
      "True\n"
     ]
    }
   ],
   "source": [
    "def modified_is_english(string):\n",
    "    possible_errors = 0\n",
    "    for character in string:\n",
    "        if ord(character) > 127:\n",
    "            possible_errors += 1\n",
    "    if possible_errors > 3:\n",
    "        return False\n",
    "    else:\n",
    "        return True\n",
    "    \n",
    "print(modified_is_english('Instagram'))\n",
    "print(modified_is_english('爱奇艺PPS -《欢乐颂2》电视剧热播'))\n",
    "print(modified_is_english('Docs To Go™ Free Office Suite'))\n",
    "print(modified_is_english('Instachat 😜'))"
   ]
  },
  {
   "cell_type": "markdown",
   "metadata": {},
   "source": [
    "This modified version help us to minimize mistakes on eliminating non-english apps by allowing upto 3 non-english words in title."
   ]
  },
  {
   "cell_type": "code",
   "execution_count": 33,
   "metadata": {},
   "outputs": [
    {
     "name": "stdout",
     "output_type": "stream",
     "text": [
      "['Photo Editor & Candy Camera & Grid & ScrapBook', 'ART_AND_DESIGN', '4.1', '159', '19M', '10,000+', 'Free', '0', 'Everyone', 'Art & Design', 'January 7, 2018', '1.0.0', '4.0.3 and up']\n",
      "\n",
      "\n",
      "['U Launcher Lite – FREE Live Cool Themes, Hide Apps', 'ART_AND_DESIGN', '4.7', '87510', '8.7M', '5,000,000+', 'Free', '0', 'Everyone', 'Art & Design', 'August 1, 2018', '1.2.4', '4.0.3 and up']\n",
      "\n",
      "\n",
      "['Sketch - Draw & Paint', 'ART_AND_DESIGN', '4.5', '215644', '25M', '50,000,000+', 'Free', '0', 'Teen', 'Art & Design', 'June 8, 2018', 'Varies with device', '4.2 and up']\n",
      "\n",
      "\n",
      "Number of rows:  9615\n",
      "Number of columns:  13\n"
     ]
    }
   ],
   "source": [
    "google_english_data = []\n",
    "google_non_english_data = []\n",
    "for app in google_clean_data:\n",
    "    name = app[0]\n",
    "    if modified_is_english(name):\n",
    "        google_english_data.append(app)\n",
    "    else:\n",
    "        google_non_english_data.append(app)\n",
    "        \n",
    "explore_data(google_english_data, 0, 3, True)"
   ]
  },
  {
   "cell_type": "markdown",
   "metadata": {},
   "source": [
    "Out of 9660 Apps in Google Play Store, 45 Apps contain more than 3 non-English words in them."
   ]
  },
  {
   "cell_type": "code",
   "execution_count": 18,
   "metadata": {},
   "outputs": [
    {
     "name": "stdout",
     "output_type": "stream",
     "text": [
      "['284882215', 'Facebook', '389879808', 'USD', '0.0', '2974676', '212', '3.5', '3.5', '95.0', '4+', 'Social Networking', '37', '1', '29', '1']\n",
      "\n",
      "\n",
      "['389801252', 'Instagram', '113954816', 'USD', '0.0', '2161558', '1289', '4.5', '4.0', '10.23', '12+', 'Photo & Video', '37', '0', '29', '1']\n",
      "\n",
      "\n",
      "['529479190', 'Clash of Clans', '116476928', 'USD', '0.0', '2130805', '579', '4.5', '4.5', '9.24.12', '9+', 'Games', '38', '5', '18', '1']\n",
      "\n",
      "\n",
      "Number of rows:  6181\n",
      "Number of columns:  16\n"
     ]
    }
   ],
   "source": [
    "apple_english_data = []\n",
    "apple_non_english_data = []\n",
    "for app in apple_clean_data:\n",
    "    name = app[1]\n",
    "    if modified_is_english(name):\n",
    "        apple_english_data.append(app)\n",
    "    else:\n",
    "        apple_non_english_data.append(app)\n",
    "\n",
    "explore_data(apple_english_data, 0, 3, True)"
   ]
  },
  {
   "cell_type": "markdown",
   "metadata": {},
   "source": [
    "Out of 7195 Apps in Apple App Store, 1014 Apps contain more than 3 non-English words in them."
   ]
  },
  {
   "cell_type": "markdown",
   "metadata": {},
   "source": [
    "# Isolating the Free Apps"
   ]
  },
  {
   "cell_type": "code",
   "execution_count": 19,
   "metadata": {},
   "outputs": [
    {
     "name": "stdout",
     "output_type": "stream",
     "text": [
      "There are  8862  free, english, non_duplicate, and correct data in Google Play Store data.\n"
     ]
    }
   ],
   "source": [
    "google_final = []\n",
    "\n",
    "for app in google_english_data:\n",
    "    price = app[7]\n",
    "    if price == '0':\n",
    "        google_final.append(app)\n",
    "\n",
    "print('There are ',len(google_final), ' free, english, non_duplicate, and correct data in Google Play Store data.')"
   ]
  },
  {
   "cell_type": "code",
   "execution_count": 20,
   "metadata": {},
   "outputs": [
    {
     "name": "stdout",
     "output_type": "stream",
     "text": [
      "There are  3220  free, english, non_duplicate, and correct data in Apple App Store data.\n"
     ]
    }
   ],
   "source": [
    "apple_final = []\n",
    "\n",
    "for app in apple_english_data:\n",
    "    price = app[4]\n",
    "    if price == '0.0':\n",
    "        apple_final.append(app)\n",
    "        \n",
    "print('There are ',len(apple_final), ' free, english, non_duplicate, and correct data in Apple App Store data.')"
   ]
  },
  {
   "cell_type": "markdown",
   "metadata": {},
   "source": [
    "# Frequency Tables"
   ]
  },
  {
   "cell_type": "code",
   "execution_count": 21,
   "metadata": {},
   "outputs": [],
   "source": [
    "def freq_table(dataset, index):\n",
    "    table = {}\n",
    "    total = 0\n",
    "    \n",
    "    for app in dataset:\n",
    "        total += 1\n",
    "        value = app[index]\n",
    "        if value in table:\n",
    "            table[value] += 1\n",
    "        else:\n",
    "            table[value] = 1\n",
    "    percentage_table = {}\n",
    "    for app in table:\n",
    "        percentage = (table[app] / total) * 100\n",
    "        percentage_table[app] = percentage\n",
    "    return percentage_table\n",
    "\n",
    "def display_table(dataset, index):\n",
    "    table = freq_table(dataset, index)\n",
    "    table_display = []\n",
    "    for key in table:\n",
    "        key_val_as_tuple = (table[key], key)\n",
    "        table_display.append(key_val_as_tuple)\n",
    "        \n",
    "    table_sorted = sorted(table_display, reverse = True)\n",
    "    for entry in table_sorted:\n",
    "        print(entry[1], ':', entry[0])"
   ]
  },
  {
   "cell_type": "code",
   "execution_count": 22,
   "metadata": {},
   "outputs": [
    {
     "name": "stdout",
     "output_type": "stream",
     "text": [
      "Genre\n",
      "Tools : 8.440532611148726\n",
      "Entertainment : 6.070864364703228\n",
      "Education : 5.348679756262695\n",
      "Business : 4.5926427443015125\n",
      "Productivity : 3.8930264048747465\n",
      "Lifestyle : 3.8930264048747465\n",
      "Finance : 3.7011961182577298\n",
      "Medical : 3.5206499661475967\n",
      "Sports : 3.4642292936131795\n",
      "Personalization : 3.3175355450236967\n",
      "Communication : 3.238546603475513\n",
      "Action : 3.1031369893929135\n",
      "Health & Fitness : 3.080568720379147\n",
      "Photography : 2.945159106296547\n",
      "News & Magazines : 2.798465357707064\n",
      "Social : 2.663055743624464\n",
      "Travel & Local : 2.324531708417964\n",
      "Shopping : 2.2455427668697814\n",
      "Books & Reference : 2.143985556307831\n",
      "Simulation : 2.0424283457458814\n",
      "Dating : 1.8618821936357481\n",
      "Arcade : 1.8505980591288649\n",
      "Video Players & Editors : 1.7716091175806816\n",
      "Casual : 1.7490408485669149\n",
      "Maps & Navigation : 1.399232678853532\n",
      "Food & Drink : 1.2412547957571656\n",
      "Puzzle : 1.128413450688332\n",
      "Racing : 0.9930038366057323\n",
      "Role Playing : 0.9365831640713158\n",
      "Libraries & Demo : 0.9365831640713158\n",
      "Auto & Vehicles : 0.9252990295644324\n",
      "Strategy : 0.9140148950575491\n",
      "House & Home : 0.8237418190024826\n",
      "Weather : 0.8011735499887158\n",
      "Events : 0.7109004739336493\n",
      "Adventure : 0.6770480704129994\n",
      "Comics : 0.6093432633716994\n",
      "Beauty : 0.598059128864816\n",
      "Art & Design : 0.598059128864816\n",
      "Parenting : 0.49650191830286616\n",
      "Card : 0.4400812457684496\n",
      "Casino : 0.4287971112615662\n",
      "Trivia : 0.41751297675468296\n",
      "Educational;Education : 0.3949447077409162\n",
      "Educational : 0.3723764387271496\n",
      "Board : 0.3723764387271496\n",
      "Education;Education : 0.3385240352064997\n",
      "Word : 0.2595350936583164\n",
      "Casual;Pretend Play : 0.23696682464454977\n",
      "Music : 0.2031144211238998\n",
      "Puzzle;Brain Games : 0.18054615211013314\n",
      "Racing;Action & Adventure : 0.16926201760324985\n",
      "Entertainment;Music & Video : 0.16926201760324985\n",
      "Casual;Brain Games : 0.13540961408259986\n",
      "Casual;Action & Adventure : 0.13540961408259986\n",
      "Arcade;Action & Adventure : 0.12412547957571654\n",
      "Action;Action & Adventure : 0.1015572105619499\n",
      "Educational;Pretend Play : 0.09027307605506657\n",
      "Board;Brain Games : 0.09027307605506657\n",
      "Simulation;Action & Adventure : 0.07898894154818326\n",
      "Parenting;Education : 0.07898894154818326\n",
      "Entertainment;Brain Games : 0.07898894154818326\n",
      "Parenting;Music & Video : 0.06770480704129993\n",
      "Educational;Brain Games : 0.06770480704129993\n",
      "Casual;Creativity : 0.06770480704129993\n",
      "Art & Design;Creativity : 0.06770480704129993\n",
      "Education;Pretend Play : 0.056420672534416606\n",
      "Role Playing;Pretend Play : 0.045136538027533285\n",
      "Education;Creativity : 0.045136538027533285\n",
      "Role Playing;Action & Adventure : 0.033852403520649964\n",
      "Puzzle;Action & Adventure : 0.033852403520649964\n",
      "Entertainment;Creativity : 0.033852403520649964\n",
      "Entertainment;Action & Adventure : 0.033852403520649964\n",
      "Educational;Creativity : 0.033852403520649964\n",
      "Educational;Action & Adventure : 0.033852403520649964\n",
      "Education;Music & Video : 0.033852403520649964\n",
      "Education;Brain Games : 0.033852403520649964\n",
      "Education;Action & Adventure : 0.033852403520649964\n",
      "Adventure;Action & Adventure : 0.033852403520649964\n",
      "Video Players & Editors;Music & Video : 0.022568269013766643\n",
      "Sports;Action & Adventure : 0.022568269013766643\n",
      "Simulation;Pretend Play : 0.022568269013766643\n",
      "Puzzle;Creativity : 0.022568269013766643\n",
      "Music;Music & Video : 0.022568269013766643\n",
      "Entertainment;Pretend Play : 0.022568269013766643\n",
      "Casual;Education : 0.022568269013766643\n",
      "Board;Action & Adventure : 0.022568269013766643\n",
      "Video Players & Editors;Creativity : 0.011284134506883321\n",
      "Trivia;Education : 0.011284134506883321\n",
      "Travel & Local;Action & Adventure : 0.011284134506883321\n",
      "Tools;Education : 0.011284134506883321\n",
      "Strategy;Education : 0.011284134506883321\n",
      "Strategy;Creativity : 0.011284134506883321\n",
      "Strategy;Action & Adventure : 0.011284134506883321\n",
      "Simulation;Education : 0.011284134506883321\n",
      "Role Playing;Brain Games : 0.011284134506883321\n",
      "Racing;Pretend Play : 0.011284134506883321\n",
      "Puzzle;Education : 0.011284134506883321\n",
      "Parenting;Brain Games : 0.011284134506883321\n",
      "Music & Audio;Music & Video : 0.011284134506883321\n",
      "Lifestyle;Pretend Play : 0.011284134506883321\n",
      "Lifestyle;Education : 0.011284134506883321\n",
      "Health & Fitness;Education : 0.011284134506883321\n",
      "Health & Fitness;Action & Adventure : 0.011284134506883321\n",
      "Entertainment;Education : 0.011284134506883321\n",
      "Communication;Creativity : 0.011284134506883321\n",
      "Comics;Creativity : 0.011284134506883321\n",
      "Casual;Music & Video : 0.011284134506883321\n",
      "Card;Brain Games : 0.011284134506883321\n",
      "Card;Action & Adventure : 0.011284134506883321\n",
      "Books & Reference;Education : 0.011284134506883321\n",
      "Art & Design;Pretend Play : 0.011284134506883321\n",
      "Art & Design;Action & Adventure : 0.011284134506883321\n",
      "Arcade;Pretend Play : 0.011284134506883321\n",
      "Adventure;Education : 0.011284134506883321\n",
      "\n",
      "\n",
      "Category\n",
      "FAMILY : 18.934777702550214\n",
      "GAME : 9.693071541412774\n",
      "TOOLS : 8.451816745655607\n",
      "BUSINESS : 4.5926427443015125\n",
      "LIFESTYLE : 3.9043105393816293\n",
      "PRODUCTIVITY : 3.8930264048747465\n",
      "FINANCE : 3.7011961182577298\n",
      "MEDICAL : 3.5206499661475967\n",
      "SPORTS : 3.39652448657188\n",
      "PERSONALIZATION : 3.3175355450236967\n",
      "COMMUNICATION : 3.238546603475513\n",
      "HEALTH_AND_FITNESS : 3.080568720379147\n",
      "PHOTOGRAPHY : 2.945159106296547\n",
      "NEWS_AND_MAGAZINES : 2.798465357707064\n",
      "SOCIAL : 2.663055743624464\n",
      "TRAVEL_AND_LOCAL : 2.335815842924848\n",
      "SHOPPING : 2.2455427668697814\n",
      "BOOKS_AND_REFERENCE : 2.143985556307831\n",
      "DATING : 1.8618821936357481\n",
      "VIDEO_PLAYERS : 1.7941773865944481\n",
      "MAPS_AND_NAVIGATION : 1.399232678853532\n",
      "FOOD_AND_DRINK : 1.2412547957571656\n",
      "EDUCATION : 1.1735499887158656\n",
      "ENTERTAINMENT : 0.9591514330850823\n",
      "LIBRARIES_AND_DEMO : 0.9365831640713158\n",
      "AUTO_AND_VEHICLES : 0.9252990295644324\n",
      "HOUSE_AND_HOME : 0.8237418190024826\n",
      "WEATHER : 0.8011735499887158\n",
      "EVENTS : 0.7109004739336493\n",
      "PARENTING : 0.6544798013992327\n",
      "ART_AND_DESIGN : 0.6431956668923494\n",
      "COMICS : 0.6206273978785828\n",
      "BEAUTY : 0.598059128864816\n"
     ]
    }
   ],
   "source": [
    "print('Genre')\n",
    "display_table(google_final, 9)\n",
    "print('\\n')\n",
    "print('Category')\n",
    "display_table(google_final, 1)"
   ]
  },
  {
   "cell_type": "markdown",
   "metadata": {},
   "source": [
    "In Google Play Store data set, the difference between 'Genre' and 'Category' is not clear. However, using 'Category' will fit our purpose since it is more general compare to 'Genre'.\n",
    "\n",
    "Category of Google Play Store is overally well spread. Productivity Apps (Family, Tools, Business, Life Style, etc) are majority beside 9.6% of the 'Game' category."
   ]
  },
  {
   "cell_type": "code",
   "execution_count": 23,
   "metadata": {},
   "outputs": [
    {
     "name": "stdout",
     "output_type": "stream",
     "text": [
      "['id', 'track_name', 'size_bytes', 'currency', 'price', 'rating_count_tot', 'rating_count_ver', 'user_rating', 'user_rating_ver', 'ver', 'cont_rating', 'prime_genre', 'sup_devices.num', 'ipadSc_urls.num', 'lang.num', 'vpp_lic']\n",
      "Games : 58.13664596273293\n",
      "Entertainment : 7.888198757763975\n",
      "Photo & Video : 4.968944099378882\n",
      "Education : 3.6645962732919255\n",
      "Social Networking : 3.291925465838509\n",
      "Shopping : 2.608695652173913\n",
      "Utilities : 2.515527950310559\n",
      "Sports : 2.142857142857143\n",
      "Music : 2.049689440993789\n",
      "Health & Fitness : 2.018633540372671\n",
      "Productivity : 1.7391304347826086\n",
      "Lifestyle : 1.5838509316770186\n",
      "News : 1.3354037267080745\n",
      "Travel : 1.2422360248447204\n",
      "Finance : 1.1180124223602486\n",
      "Weather : 0.8695652173913043\n",
      "Food & Drink : 0.8074534161490683\n",
      "Reference : 0.5590062111801243\n",
      "Business : 0.5279503105590062\n",
      "Book : 0.43478260869565216\n",
      "Navigation : 0.18633540372670807\n",
      "Medical : 0.18633540372670807\n",
      "Catalogs : 0.12422360248447205\n"
     ]
    }
   ],
   "source": [
    "print(apple_header)\n",
    "display_table(apple_final, 11)"
   ]
  },
  {
   "cell_type": "markdown",
   "metadata": {},
   "source": [
    "Apple App Store is heavily skewed with 58.1% of the 'Game' category. The first impression of Apple App Store compare to Google Play Store is Apps that are desinged for fun (Game, Entertainment, Photo & Video, Music, Sports, etc) is dominating.\n",
    "\n",
    "However, the fact that fun apps are the most numerous doesn't also imply that they also have the greatest number of users — the demand might not be the same as the offer. So I will create freqency table to examine that."
   ]
  },
  {
   "cell_type": "markdown",
   "metadata": {},
   "source": [
    "# Most Popular Apps by Genre"
   ]
  },
  {
   "cell_type": "markdown",
   "metadata": {},
   "source": [
    "I am going to use 'average number of installations' to find out which genre is more popular than others. Number of installs in Google Play Store data is not percise, however, I do not need percise data for our purpose. To use the data as is, '+' and ',' need to be cleaned and it needs to be float to calculate the average install number."
   ]
  },
  {
   "cell_type": "code",
   "execution_count": 38,
   "metadata": {},
   "outputs": [
    {
     "name": "stdout",
     "output_type": "stream",
     "text": [
      "('COMMUNICATION', 38456119.167247385)\n",
      "('VIDEO_PLAYERS', 24727872.452830188)\n",
      "('SOCIAL', 23253652.127118643)\n",
      "('PHOTOGRAPHY', 17805627.643678162)\n",
      "('PRODUCTIVITY', 16787331.344927534)\n",
      "('GAME', 15560965.599534342)\n",
      "('TRAVEL_AND_LOCAL', 13984077.710144928)\n",
      "('ENTERTAINMENT', 11640705.88235294)\n",
      "('TOOLS', 10682301.033377837)\n",
      "('NEWS_AND_MAGAZINES', 9549178.467741935)\n",
      "('BOOKS_AND_REFERENCE', 8767811.894736841)\n",
      "('SHOPPING', 7036877.311557789)\n",
      "('PERSONALIZATION', 5201482.6122448975)\n",
      "('WEATHER', 5074486.197183099)\n",
      "('HEALTH_AND_FITNESS', 4188821.9853479853)\n",
      "('MAPS_AND_NAVIGATION', 4056941.7741935486)\n",
      "('FAMILY', 3694276.334922527)\n",
      "('SPORTS', 3638640.1428571427)\n",
      "('ART_AND_DESIGN', 1986335.0877192982)\n",
      "('FOOD_AND_DRINK', 1924897.7363636363)\n",
      "('EDUCATION', 1820673.076923077)\n",
      "('BUSINESS', 1712290.1474201474)\n",
      "('LIFESTYLE', 1437816.2687861272)\n",
      "('FINANCE', 1387692.475609756)\n",
      "('HOUSE_AND_HOME', 1331540.5616438356)\n",
      "('DATING', 854028.8303030303)\n",
      "('COMICS', 817657.2727272727)\n",
      "('AUTO_AND_VEHICLES', 647317.8170731707)\n",
      "('LIBRARIES_AND_DEMO', 638503.734939759)\n",
      "('PARENTING', 542603.6206896552)\n",
      "('BEAUTY', 513151.88679245283)\n",
      "('EVENTS', 253542.22222222222)\n",
      "('MEDICAL', 120616.48717948717)\n"
     ]
    }
   ],
   "source": [
    "freq_category = freq_table(google_final, 1)\n",
    "category_dict = {}\n",
    "for genre in freq_category:\n",
    "    total = 0\n",
    "    len_genre = 0\n",
    "    for app in google_final:\n",
    "        genre_app = app[1]\n",
    "        if genre_app == genre:\n",
    "            n_install = app[5]\n",
    "            n_install = n_install.replace('+', '')\n",
    "            n_install = n_install.replace(',', '')\n",
    "            total += float(n_install)\n",
    "            len_genre += 1\n",
    "    avg_install = total / len_genre\n",
    "    category_dict[genre] = avg_install\n",
    "category_dict = sorted(category_dict.items(), key = lambda t: t[1], reverse = True)\n",
    "for i in category_dict:\n",
    "    print(i)"
   ]
  },
  {
   "cell_type": "markdown",
   "metadata": {},
   "source": [
    "'Communication', 'Video_players', 'Social', and 'Photography' are the major categories that users installed the most.\n",
    "\n",
    "Let's look at one of the major categories in detail."
   ]
  },
  {
   "cell_type": "code",
   "execution_count": 27,
   "metadata": {},
   "outputs": [
    {
     "name": "stdout",
     "output_type": "stream",
     "text": [
      "WhatsApp Messenger : 1,000,000,000+\n",
      "imo beta free calls and text : 100,000,000+\n",
      "Android Messages : 100,000,000+\n",
      "Google Duo - High Quality Video Calls : 500,000,000+\n",
      "Messenger – Text and Video Chat for Free : 1,000,000,000+\n",
      "imo free video calls and chat : 500,000,000+\n",
      "Skype - free IM & video calls : 1,000,000,000+\n",
      "Who : 100,000,000+\n",
      "GO SMS Pro - Messenger, Free Themes, Emoji : 100,000,000+\n",
      "LINE: Free Calls & Messages : 500,000,000+\n",
      "Google Chrome: Fast & Secure : 1,000,000,000+\n",
      "Firefox Browser fast & private : 100,000,000+\n",
      "UC Browser - Fast Download Private & Secure : 500,000,000+\n",
      "Gmail : 1,000,000,000+\n",
      "Hangouts : 1,000,000,000+\n",
      "Messenger Lite: Free Calls & Messages : 100,000,000+\n",
      "Kik : 100,000,000+\n",
      "KakaoTalk: Free Calls & Text : 100,000,000+\n",
      "Opera Mini - fast web browser : 100,000,000+\n",
      "Opera Browser: Fast and Secure : 100,000,000+\n",
      "Telegram : 100,000,000+\n",
      "Truecaller: Caller ID, SMS spam blocking & Dialer : 100,000,000+\n",
      "UC Browser Mini -Tiny Fast Private & Secure : 100,000,000+\n",
      "Viber Messenger : 500,000,000+\n",
      "WeChat : 100,000,000+\n",
      "Yahoo Mail – Stay Organized : 100,000,000+\n",
      "BBM - Free Calls & Messages : 100,000,000+\n"
     ]
    }
   ],
   "source": [
    "for app in google_final:\n",
    "    if app[1] == 'COMMUNICATION' and (app[5] == '1,000,000,000+'\n",
    "                                        or app[5] == '500,000,000+'\n",
    "                                        or app[5] == '100,000,000+'):\n",
    "        print(app[0], ':', app[5])"
   ]
  },
  {
   "cell_type": "markdown",
   "metadata": {},
   "source": [
    "Communication category is dominated by big named companies(Skype, Google Duo, WhatsApp, Android Messages, etc) that are hard to compete with."
   ]
  },
  {
   "cell_type": "code",
   "execution_count": 28,
   "metadata": {},
   "outputs": [
    {
     "data": {
      "text/plain": [
       "3603485.3884615386"
      ]
     },
     "execution_count": 28,
     "metadata": {},
     "output_type": "execute_result"
    }
   ],
   "source": [
    "under_100_m = []\n",
    "\n",
    "for app in google_final:\n",
    "    n_installs = app[5]\n",
    "    n_installs = n_installs.replace(',', '')\n",
    "    n_installs = n_installs.replace('+', '')\n",
    "    if (app[1] == 'COMMUNICATION') and (float(n_installs) < 100000000):\n",
    "        under_100_m.append(float(n_installs))\n",
    "        \n",
    "sum(under_100_m) / len(under_100_m)"
   ]
  },
  {
   "cell_type": "markdown",
   "metadata": {},
   "source": [
    "After removing apps that have over 100 million installs, the average reduced roughly ten times."
   ]
  },
  {
   "cell_type": "code",
   "execution_count": 37,
   "metadata": {},
   "outputs": [
    {
     "name": "stdout",
     "output_type": "stream",
     "text": [
      "YouTube : 1,000,000,000+\n",
      "Motorola Gallery : 100,000,000+\n",
      "VLC for Android : 100,000,000+\n",
      "Google Play Movies & TV : 1,000,000,000+\n",
      "MX Player : 500,000,000+\n",
      "Dubsmash : 100,000,000+\n",
      "VivaVideo - Video Editor & Photo Movie : 100,000,000+\n",
      "VideoShow-Video Editor, Video Maker, Beauty Camera : 100,000,000+\n",
      "Motorola FM Radio : 100,000,000+\n"
     ]
    },
    {
     "data": {
      "text/plain": [
       "5544878.133333334"
      ]
     },
     "execution_count": 37,
     "metadata": {},
     "output_type": "execute_result"
    }
   ],
   "source": [
    "for app in google_final:\n",
    "    if app[1] == 'VIDEO_PLAYERS' and (app[5] == '1,000,000,000+'\n",
    "                                        or app[5] == '500,000,000+'\n",
    "                                        or app[5] == '100,000,000+'):\n",
    "        print(app[0],':',app[5])\n",
    "        \n",
    "under_100_m = []\n",
    "\n",
    "for app in google_final:\n",
    "    n_installs = app[5]\n",
    "    n_installs = n_installs.replace(',', '')\n",
    "    n_installs = n_installs.replace('+', '')\n",
    "    if (app[1] == 'VIDEO_PLAYERS') and (float(n_installs) < 100000000):\n",
    "        under_100_m.append(float(n_installs))\n",
    "        \n",
    "sum(under_100_m) / len(under_100_m)"
   ]
  },
  {
   "cell_type": "markdown",
   "metadata": {},
   "source": [
    "Similar trend showed with 'VIDEO_PLAYERS' category, the average was reduced by roughly four times. From this information, we can extract the fact that these app categories might seem more popular than they really are. Moreover, it is vital to avoid these categories for start up company to build a new App to succeed in the Google Play Store."
   ]
  },
  {
   "cell_type": "markdown",
   "metadata": {},
   "source": [
    "Number of installation doesn't exist in the Apple App Store's data. One alternate way to find users' interest would be number of ratings."
   ]
  },
  {
   "cell_type": "code",
   "execution_count": 41,
   "metadata": {},
   "outputs": [
    {
     "name": "stdout",
     "output_type": "stream",
     "text": [
      "('Navigation', 86090.33333333333)\n",
      "('Reference', 74942.11111111111)\n",
      "('Social Networking', 71548.34905660378)\n",
      "('Music', 57326.530303030304)\n",
      "('Weather', 52279.892857142855)\n",
      "('Book', 39758.5)\n",
      "('Food & Drink', 33333.92307692308)\n",
      "('Finance', 31467.944444444445)\n",
      "('Photo & Video', 28441.54375)\n",
      "('Travel', 28243.8)\n",
      "('Shopping', 26919.690476190477)\n",
      "('Health & Fitness', 23298.015384615384)\n",
      "('Sports', 23008.898550724636)\n",
      "('Games', 22812.903311965812)\n",
      "('News', 21248.023255813954)\n",
      "('Productivity', 21028.410714285714)\n",
      "('Utilities', 18684.456790123455)\n",
      "('Lifestyle', 16485.764705882353)\n",
      "('Entertainment', 14029.830708661417)\n",
      "('Business', 7491.117647058823)\n",
      "('Education', 7003.983050847458)\n",
      "('Catalogs', 4004.0)\n",
      "('Medical', 612.0)\n"
     ]
    }
   ],
   "source": [
    "freq_category = freq_table(apple_final, 11)\n",
    "category_dict = {}\n",
    "for genre in freq_category:\n",
    "    total = 0\n",
    "    len_genre = 0\n",
    "    for app in apple_final:\n",
    "        genre_app = app[11]\n",
    "        if genre_app == genre:\n",
    "            n_rating = app[5]\n",
    "            total += float(n_rating)\n",
    "            len_genre += 1\n",
    "    avg_rating = total / len_genre\n",
    "    category_dict[genre] = avg_rating\n",
    "category_dict = sorted(category_dict.items(), key = lambda t: t[1], reverse = True)\n",
    "for i in category_dict:\n",
    "    print(i)"
   ]
  },
  {
   "cell_type": "markdown",
   "metadata": {},
   "source": [
    "Since we are looking to make an app that will succeed in both Apple Store and Google Play Store, we can eliminate some of these categories.\n",
    "\n",
    "'Music' category only exists in Apple Store, we eliminated 'Social Networking' category from Google Play Store, 'Reference' is dominated by Bible and 'Book' category is dominated by big named comapanies' book reader.\n",
    "\n",
    "However, 'Weather' category exists in both Google Play Store and Apple Store, not dominated by big named companies, and have decent number of user interest. (number of installations & number of ratings)."
   ]
  },
  {
   "cell_type": "code",
   "execution_count": 67,
   "metadata": {},
   "outputs": [
    {
     "name": "stdout",
     "output_type": "stream",
     "text": [
      "The Weather Channel: Rain Forecast & Storm Alerts : 50,000,000+\n",
      "Weather forecast : 1,000,000+\n",
      "AccuWeather: Daily Forecast & Live Weather Reports : 50,000,000+\n",
      "Live Weather Pro : 10,000+\n",
      "Weather by WeatherBug: Forecast, Radar & Alerts : 10,000,000+\n",
      "weather - weather forecast : 1,000,000+\n",
      "MyRadar NOAA Weather Radar : 10,000,000+\n",
      "SMHI Weather : 1,000,000+\n",
      "Free live weather on screen : 1,000,000+\n",
      "Weather Radar Widget : 1,000,000+\n",
      "Weather –Simple weather forecast : 10,000,000+\n",
      "Weather Crave : 5,000,000+\n",
      "Klara weather : 500,000+\n",
      "Yahoo Weather : 10,000,000+\n",
      "Real time Weather Forecast : 1,000,000+\n",
      "METEO FRANCE : 5,000,000+\n",
      "APE Weather ( Live Forecast) : 5,000,000+\n",
      "Live Weather & Daily Local Weather Forecast : 1,000,000+\n",
      "Weather : 10,000,000+\n",
      "Rainfall radar - weather : 5,000,000+\n",
      "Yahoo! Weather for SH Forecast for understanding the approach of rain clouds Free : 1,000,000+\n",
      "The Weather Network : 5,000,000+\n",
      "Klart.se - Sweden's best weather : 1,000,000+\n",
      "GO Weather - Widget, Theme, Wallpaper, Efficient : 50,000,000+\n",
      "Info BMKG : 1,000,000+\n",
      "Weather From DMI/YR : 100,000+\n",
      "wetter.com - Weather and Radar : 10,000,000+\n",
      "Storm Radar: Tornado Tracker & Hurricane Alerts : 1,000,000+\n",
      "Yandex.Weather : 10,000,000+\n",
      "Local Weather Forecast & Visual Widget : 500,000+\n",
      "Wetter by t-online.de : 1,000,000+\n",
      "HTC Weather : 10,000,000+\n",
      "AEMET's time : 1,000,000+\n",
      "New 2018 Weather App & Widget : 500,000+\n",
      "Météociel : 500,000+\n",
      "Climatempo Lite - 15 day weather forecast : 100,000+\n",
      "ForecaWeather : 1,000,000+\n",
      "HumorCast - Authentic Weather : 100,000+\n",
      "W - Weather Forecast & Animated Radar Maps : 5,000+\n",
      "Weather & Clock Widget for Android : 50,000,000+\n",
      "WeatherClear - Ad-free Weather, Minute forecast : 50,000+\n",
      "Ag Weather Tools : 500+\n",
      "Wind & Weather Meter for Ag : 1,000+\n",
      "Au Weather Free : 100,000+\n",
      "Amber Weather : 10,000,000+\n",
      "ByssWeather for Wear OS : 1,000,000+\n",
      "Sun & Moon AR Locator : 10,000+\n",
      "RadarNow! : 5,000,000+\n",
      "Skywatch BL : 1,000+\n",
      "Weather BZ : 100,000+\n",
      "Fu*** Weather (Funny Weather) : 1,000,000+\n",
      "WebCams : 100,000+\n",
      "Windguru Lite : 1,000,000+\n",
      "World Webcams : 1,000,000+\n",
      "DS Barometer - Altimeter and Weather Information : 100,000+\n",
      "DS Thermometer : 100,000+\n",
      "Météo Algérie DZ : 100,000+\n",
      "Local weather Forecast : 1,000,000+\n",
      "Weather 14 Days : 10,000,000+\n",
      "Weather by eltiempo.es : 5,000,000+\n",
      "Storm Shield : 100,000+\n",
      "GO Weather EX Theme White : 500,000+\n",
      "MIUI Style GO Weather EX : 500,000+\n",
      "Moonlight GO Weather EX : 1,000,000+\n",
      "EZ Clock & Weather Widget : 1,000,000+\n",
      "Florida Storms : 10,000+\n",
      "Clearwater, FL - weather and more : 10+\n",
      "St. Petersburg, FL - weather and more : 10+\n",
      "WSVN • South Florida's Source for Weather : 1,000+\n",
      "My Earthquake Alerts - US & Worldwide Earthquakes : 100,000+\n",
      "FR Tides : 100,000+\n"
     ]
    }
   ],
   "source": [
    "for app in google_final:\n",
    "    if app[1] == 'WEATHER':\n",
    "        print(app[0], ':', app[5])"
   ]
  },
  {
   "cell_type": "markdown",
   "metadata": {},
   "source": [
    "Unlike other categories of Google Play Store, all the apps seem to have similar number of installations. Also, it is not dominated by few giant companies. This market shows potential."
   ]
  },
  {
   "cell_type": "code",
   "execution_count": 61,
   "metadata": {},
   "outputs": [
    {
     "name": "stdout",
     "output_type": "stream",
     "text": [
      "The Weather Channel: Forecast, Radar & Alerts : 495626\n",
      "The Weather Channel App for iPad – best local forecast, radar map, and storm tracking : 208648\n",
      "WeatherBug - Local Weather, Radar, Maps, Alerts : 188583\n",
      "MyRadar NOAA Weather Radar Forecast : 150158\n",
      "AccuWeather - Weather for Life : 144214\n",
      "Yahoo Weather : 112603\n",
      "Weather Underground: Custom Forecast & Local Radar : 49192\n",
      "NOAA Weather Radar - Weather Forecast & HD Radar : 45696\n",
      "Weather Live Free - Weather Forecast & Alerts : 35702\n",
      "Storm Radar : 22792\n",
      "QuakeFeed Earthquake Map, Alerts, and News : 6081\n",
      "Moji Weather - Free Weather Forecast : 2333\n",
      "Hurricane by American Red Cross : 1158\n",
      "Forecast Bar : 375\n",
      "Hurricane Tracker WESH 2 Orlando, Central Florida : 203\n",
      "FEMA : 128\n",
      "iWeather - World weather forecast : 80\n",
      "Weather - Radar - Storm with Morecast App : 78\n",
      "Yurekuru Call : 53\n",
      "Weather & Radar : 37\n",
      "WRAL Weather Alert : 25\n",
      "Météo-France : 24\n",
      "JaxReady : 22\n",
      "Freddy the Frogcaster's Weather Station : 14\n",
      "Almanac Long-Range Weather Forecast : 12\n",
      "TodayAir : 0\n",
      "wetter.com : 0\n",
      "WarnWetter : 0\n"
     ]
    }
   ],
   "source": [
    "for app in apple_final:\n",
    "    genre = app[11]\n",
    "    if genre == 'Weather':\n",
    "        print(app[1], ':', app[5])"
   ]
  },
  {
   "cell_type": "markdown",
   "metadata": {},
   "source": [
    "Similar to the Google Play Store, the number of rating seems well destributed in the Apple Store."
   ]
  },
  {
   "cell_type": "markdown",
   "metadata": {},
   "source": [
    "Apps in the 'Weather' category varies from weather forecast to natural disaster apps. Besides the normal weather forecast apps, people are looking for area specific weather apps as well. For example, 'Hurricane Tracker' and 'My Earthquake Alterts' targets certain areas in the U.S. that requires special weather forecast. "
   ]
  },
  {
   "cell_type": "markdown",
   "metadata": {},
   "source": [
    "Conclusions\n",
    "In this project, we analyzed data about the App Store and Google Play mobile apps with the goal of recommending an app profile that can be profitable for both markets.\n",
    "\n",
    "We concluded that making a weather app that is specialized to a certain area in U.S. could be profitable for both the Google Play Store and the Apple App Store markets. This category isn't full of Apps which gives some room to compete, so specializing the app to a certain area will be successful. This might include daily weather forecast, Earthquake, Hurricane, Storm, atmospheric particulate matter, etc."
   ]
  }
 ],
 "metadata": {
  "kernelspec": {
   "display_name": "Python 3",
   "language": "python",
   "name": "python3"
  },
  "language_info": {
   "codemirror_mode": {
    "name": "ipython",
    "version": 3
   },
   "file_extension": ".py",
   "mimetype": "text/x-python",
   "name": "python",
   "nbconvert_exporter": "python",
   "pygments_lexer": "ipython3",
   "version": "3.6.8"
  }
 },
 "nbformat": 4,
 "nbformat_minor": 2
}
