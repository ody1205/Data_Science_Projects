{
 "cells": [
  {
   "cell_type": "markdown",
   "metadata": {},
   "source": [
    "# Hacker News Posts Analysis\n",
    "\n",
    "In this project, we are going to explore two types of posts from the '[Hacker News](https://news.ycombinator.com/)' [data set](https://www.kaggle.com/hacker-news/hacker-news-posts). We're specifically interested in posts whose titles begin with either Ask HN or Show HN. Users submit Ask HN posts to ask the Hacker News community a specific question. Likewise, users submit Show HN posts to show the Hacker News community a project, product, or just generally something interesting.\n",
    "\n",
    "We'll compare these two types of posts to determine the following:\n",
    "\n",
    "    Do Ask HN or Show HN receive more comments on average?\n",
    "    Do posts created at a certain time receive more comments on average?\n"
   ]
  },
  {
   "cell_type": "code",
   "execution_count": 1,
   "metadata": {},
   "outputs": [
    {
     "name": "stdout",
     "output_type": "stream",
     "text": [
      "[['id', 'title', 'url', 'num_points', 'num_comments', 'author', 'created_at'], ['12579008', 'You have two days to comment if you want stem cells to be classified as your own', 'http://www.regulations.gov/document?D=FDA-2015-D-3719-0018', '1', '0', 'altstar', '9/26/2016 3:26'], ['12579005', 'SQLAR  the SQLite Archiver', 'https://www.sqlite.org/sqlar/doc/trunk/README.md', '1', '0', 'blacksqr', '9/26/2016 3:24'], ['12578997', 'What if we just printed a flatscreen television on the side of our boxes?', 'https://medium.com/vanmoof/our-secrets-out-f21c1f03fdc8#.ietxmez43', '1', '0', 'pavel_lishin', '9/26/2016 3:19'], ['12578989', 'algorithmic music', 'http://cacm.acm.org/magazines/2011/7/109891-algorithmic-composition/fulltext', '1', '0', 'poindontcare', '9/26/2016 3:16']]\n"
     ]
    }
   ],
   "source": [
    "from csv import reader\n",
    "\n",
    "opened_file = open('hacker_news.csv')\n",
    "read_file = reader(opened_file)\n",
    "hn = list(read_file)\n",
    "\n",
    "print(hn[:5])"
   ]
  },
  {
   "cell_type": "markdown",
   "metadata": {},
   "source": [
    "# Extracting Header"
   ]
  },
  {
   "cell_type": "code",
   "execution_count": 2,
   "metadata": {},
   "outputs": [
    {
     "name": "stdout",
     "output_type": "stream",
     "text": [
      "['id', 'title', 'url', 'num_points', 'num_comments', 'author', 'created_at']\n",
      "[['12579008', 'You have two days to comment if you want stem cells to be classified as your own', 'http://www.regulations.gov/document?D=FDA-2015-D-3719-0018', '1', '0', 'altstar', '9/26/2016 3:26'], ['12579005', 'SQLAR  the SQLite Archiver', 'https://www.sqlite.org/sqlar/doc/trunk/README.md', '1', '0', 'blacksqr', '9/26/2016 3:24'], ['12578997', 'What if we just printed a flatscreen television on the side of our boxes?', 'https://medium.com/vanmoof/our-secrets-out-f21c1f03fdc8#.ietxmez43', '1', '0', 'pavel_lishin', '9/26/2016 3:19'], ['12578989', 'algorithmic music', 'http://cacm.acm.org/magazines/2011/7/109891-algorithmic-composition/fulltext', '1', '0', 'poindontcare', '9/26/2016 3:16'], ['12578979', 'How the Data Vault Enables the Next-Gen Data Warehouse and Data Lake', 'https://www.talend.com/blog/2016/05/12/talend-and-Â\\x93the-data-vaultÂ\\x94', '1', '0', 'markgainor1', '9/26/2016 3:14']]\n"
     ]
    }
   ],
   "source": [
    "hn_header = hn[0]\n",
    "hn = hn[1:]\n",
    "\n",
    "print(hn_header)\n",
    "print(hn[:5])"
   ]
  },
  {
   "cell_type": "markdown",
   "metadata": {},
   "source": [
    "# Cleaning the data\n",
    "We are going to extract Ask HN or Show HN from the 'hn' list of lists. We will iterate through hn and find any title starts with Ask HN or Show HN using the string method 'startswith'."
   ]
  },
  {
   "cell_type": "code",
   "execution_count": 3,
   "metadata": {},
   "outputs": [
    {
     "name": "stdout",
     "output_type": "stream",
     "text": [
      "Number of Ask HN posts:  9139\n",
      "Number of Show HN posts:  10158\n",
      "Number of Other posts:  273822\n"
     ]
    }
   ],
   "source": [
    "ask_posts = []\n",
    "show_posts = []\n",
    "other_posts = []\n",
    "\n",
    "for row in hn:\n",
    "    title = row[1]\n",
    "    if title.lower().startswith('ask hn'):\n",
    "        ask_posts.append(row)\n",
    "    elif title.lower().startswith('show hn'):\n",
    "        show_posts.append(row)\n",
    "    else:\n",
    "        other_posts.append(row)\n",
    "        \n",
    "print('Number of Ask HN posts: ', len(ask_posts))\n",
    "print('Number of Show HN posts: ', len(show_posts))\n",
    "print('Number of Other posts: ', len(other_posts))"
   ]
  },
  {
   "cell_type": "markdown",
   "metadata": {},
   "source": [
    "Below are the first five rows in the ask_posts list of lists."
   ]
  },
  {
   "cell_type": "code",
   "execution_count": 4,
   "metadata": {},
   "outputs": [
    {
     "data": {
      "text/plain": [
       "[['12578908',\n",
       "  'Ask HN: What TLD do you use for local development?',\n",
       "  '',\n",
       "  '4',\n",
       "  '7',\n",
       "  'Sevrene',\n",
       "  '9/26/2016 2:53'],\n",
       " ['12578522',\n",
       "  'Ask HN: How do you pass on your work when you die?',\n",
       "  '',\n",
       "  '6',\n",
       "  '3',\n",
       "  'PascLeRasc',\n",
       "  '9/26/2016 1:17'],\n",
       " ['12577908',\n",
       "  'Ask HN: How a DNS problem can be limited to a geographic region?',\n",
       "  '',\n",
       "  '1',\n",
       "  '0',\n",
       "  'kuon',\n",
       "  '9/25/2016 22:57'],\n",
       " ['12577870',\n",
       "  'Ask HN: Why join a fund when you can be an angel?',\n",
       "  '',\n",
       "  '1',\n",
       "  '3',\n",
       "  'anthony_james',\n",
       "  '9/25/2016 22:48'],\n",
       " ['12577647',\n",
       "  'Ask HN: Someone uses stock trading as passive income?',\n",
       "  '',\n",
       "  '5',\n",
       "  '2',\n",
       "  '00taffe',\n",
       "  '9/25/2016 21:50']]"
      ]
     },
     "execution_count": 4,
     "metadata": {},
     "output_type": "execute_result"
    }
   ],
   "source": [
    "ask_posts[:5]"
   ]
  },
  {
   "cell_type": "markdown",
   "metadata": {},
   "source": [
    "Below are the first five rows in the show_posts list of lists."
   ]
  },
  {
   "cell_type": "code",
   "execution_count": 5,
   "metadata": {},
   "outputs": [
    {
     "data": {
      "text/plain": [
       "[['12578335',\n",
       "  'Show HN: Finding puns computationally',\n",
       "  'http://puns.samueltaylor.org/',\n",
       "  '2',\n",
       "  '0',\n",
       "  'saamm',\n",
       "  '9/26/2016 0:36'],\n",
       " ['12578182',\n",
       "  'Show HN: A simple library for complicated animations',\n",
       "  'https://christinecha.github.io/choreographer-js/',\n",
       "  '1',\n",
       "  '0',\n",
       "  'christinecha',\n",
       "  '9/26/2016 0:01'],\n",
       " ['12578098',\n",
       "  'Show HN: WebGL visualization of DNA sequences',\n",
       "  'http://grondilu.github.io/dna.html',\n",
       "  '1',\n",
       "  '0',\n",
       "  'grondilu',\n",
       "  '9/25/2016 23:44'],\n",
       " ['12577991',\n",
       "  'Show HN: Pomodoro-centric, heirarchical project management with ES6 modules',\n",
       "  'https://github.com/jakebian/zeal',\n",
       "  '2',\n",
       "  '0',\n",
       "  'dbranes',\n",
       "  '9/25/2016 23:17'],\n",
       " ['12577142',\n",
       "  'Show HN: Jumble  Essays on the go #PaulInYourPocket',\n",
       "  'https://itunes.apple.com/us/app/jumble-find-startup-essay/id1150939197?ls=1&mt=8',\n",
       "  '1',\n",
       "  '1',\n",
       "  'ryderj',\n",
       "  '9/25/2016 20:06']]"
      ]
     },
     "execution_count": 5,
     "metadata": {},
     "output_type": "execute_result"
    }
   ],
   "source": [
    "show_posts[:5]"
   ]
  },
  {
   "cell_type": "markdown",
   "metadata": {},
   "source": [
    "# Calculate Number of Comments\n",
    "Since we are using the number of comments as our determinant, we need to calculate average number of comments for each situations."
   ]
  },
  {
   "cell_type": "code",
   "execution_count": 6,
   "metadata": {},
   "outputs": [
    {
     "name": "stdout",
     "output_type": "stream",
     "text": [
      "Average number of Ask HN post comments:  10.393478498741656\n",
      "Average number of Show HN post comments:  4.886099625910612\n"
     ]
    }
   ],
   "source": [
    "total_ask_comments = 0\n",
    "\n",
    "for row in ask_posts:\n",
    "    n_comt = int(row[4])\n",
    "    total_ask_comments += n_comt\n",
    "\n",
    "avg_ask_comments = total_ask_comments / len(ask_posts)\n",
    "print('Average number of Ask HN post comments: ', avg_ask_comments)\n",
    "\n",
    "total_show_comments = 0\n",
    "for row in show_posts:\n",
    "    n_comt = int(row[4])\n",
    "    total_show_comments += n_comt\n",
    "    \n",
    "avg_show_comments = total_show_comments / len(show_posts)\n",
    "print('Average number of Show HN post comments: ',avg_show_comments)"
   ]
  },
  {
   "cell_type": "markdown",
   "metadata": {},
   "source": [
    "On average, Ask HN posts get about 6 more comments compare to the Show HN posts. Since Ask HN post receive more comments on average, we are going to focus on Ask HN posts for the remaining analysis."
   ]
  },
  {
   "cell_type": "markdown",
   "metadata": {},
   "source": [
    "# Finding the Amount of Ask Posts and Comments by Hour Created"
   ]
  },
  {
   "cell_type": "code",
   "execution_count": 7,
   "metadata": {},
   "outputs": [
    {
     "data": {
      "text/plain": [
       "[('15', 18525),\n",
       " ('13', 7245),\n",
       " ('17', 5547),\n",
       " ('14', 4972),\n",
       " ('18', 4877),\n",
       " ('21', 4500),\n",
       " ('16', 4466),\n",
       " ('20', 4462),\n",
       " ('12', 4234),\n",
       " ('19', 3954),\n",
       " ('22', 3372),\n",
       " ('10', 3013),\n",
       " ('02', 2996),\n",
       " ('11', 2797),\n",
       " ('08', 2362),\n",
       " ('04', 2360),\n",
       " ('23', 2297),\n",
       " ('00', 2277),\n",
       " ('03', 2154),\n",
       " ('01', 2089),\n",
       " ('05', 1838),\n",
       " ('06', 1587),\n",
       " ('07', 1585),\n",
       " ('09', 1477)]"
      ]
     },
     "execution_count": 7,
     "metadata": {},
     "output_type": "execute_result"
    }
   ],
   "source": [
    "import datetime as dt\n",
    "\n",
    "result_list = []\n",
    "for row in ask_posts:\n",
    "    created_at = row[6]\n",
    "    n_comt = int(row[4])\n",
    "    result_list.append([created_at, n_comt])\n",
    "\n",
    "counts_by_hour = {}\n",
    "comments_by_hour = {}\n",
    "for i in result_list:\n",
    "    date_time = i[0]\n",
    "    time = dt.datetime.strptime(date_time, '%m/%d/%Y %H:%M')\n",
    "    hour = time.strftime('%H')\n",
    "    if hour not in counts_by_hour:\n",
    "        counts_by_hour[hour] = 1\n",
    "        comments_by_hour[hour] = i[1]\n",
    "    else:\n",
    "        counts_by_hour[hour] += 1\n",
    "        comments_by_hour[hour] += i[1]\n",
    "\n",
    "sorted_comments_by_hour = sorted(comments_by_hour.items(), key = lambda x:x[1], reverse = True)\n",
    "sorted_comments_by_hour"
   ]
  },
  {
   "cell_type": "markdown",
   "metadata": {},
   "source": [
    "# Calculating the Average Number of Comments for Ask HN Posts by Hour"
   ]
  },
  {
   "cell_type": "code",
   "execution_count": 8,
   "metadata": {},
   "outputs": [
    {
     "data": {
      "text/plain": [
       "[['02', 11.137546468401487],\n",
       " ['01', 7.407801418439717],\n",
       " ['22', 8.804177545691905],\n",
       " ['21', 8.687258687258687],\n",
       " ['19', 7.163043478260869],\n",
       " ['17', 9.449744463373083],\n",
       " ['15', 28.676470588235293],\n",
       " ['14', 9.692007797270955],\n",
       " ['13', 16.31756756756757],\n",
       " ['11', 8.96474358974359],\n",
       " ['10', 10.684397163120567],\n",
       " ['09', 6.653153153153153],\n",
       " ['07', 7.013274336283186],\n",
       " ['03', 7.948339483394834],\n",
       " ['23', 6.696793002915452],\n",
       " ['20', 8.749019607843136],\n",
       " ['16', 7.713298791018998],\n",
       " ['08', 9.190661478599221],\n",
       " ['00', 7.5647840531561465],\n",
       " ['18', 7.94299674267101],\n",
       " ['12', 12.380116959064328],\n",
       " ['04', 9.7119341563786],\n",
       " ['06', 6.782051282051282],\n",
       " ['05', 8.794258373205741]]"
      ]
     },
     "execution_count": 8,
     "metadata": {},
     "output_type": "execute_result"
    }
   ],
   "source": [
    "avg_comt_by_hour = []\n",
    "\n",
    "for hour in comments_by_hour:\n",
    "    avg_comt_by_hour.append([hour, comments_by_hour[hour] / counts_by_hour[hour]])\n",
    "    \n",
    "avg_comt_by_hour"
   ]
  },
  {
   "cell_type": "markdown",
   "metadata": {},
   "source": [
    "# Sorting and Printing Values from a List of Lists"
   ]
  },
  {
   "cell_type": "code",
   "execution_count": 16,
   "metadata": {},
   "outputs": [
    {
     "data": {
      "text/plain": [
       "[['15', 28.68], ['13', 16.32], ['12', 12.38], ['02', 11.14], ['10', 10.68]]"
      ]
     },
     "execution_count": 16,
     "metadata": {},
     "output_type": "execute_result"
    }
   ],
   "source": [
    "for i in avg_comt_by_hour:\n",
    "    hour = i[0]\n",
    "    avg_comment = round(i[1],2)\n",
    "    i[1] = avg_comment\n",
    "\n",
    "sorted_avg_comt_by_hour = sorted(avg_comt_by_hour, key=lambda x:x[1], reverse=True)\n",
    "sorted_avg_comt_by_hour[:5]"
   ]
  },
  {
   "cell_type": "markdown",
   "metadata": {},
   "source": [
    "As we can see, the hour that receives the most comments per post on average is 15:00 with about 28.68 comments per post. There is a significant increase in the number of comments between 15:00 and 13:00.\n",
    "\n",
    "It would be feasible to say writing a post on 15:00 (3:00 pm est.) is highly recommended for anyone who want their question answered."
   ]
  },
  {
   "cell_type": "markdown",
   "metadata": {},
   "source": [
    "Conclusion\n",
    "\n",
    "We analyzed two types of posts and determined which type of post and time received the most comments on average. Based on our obsevation, we recommend the Ask HN category and create the post between 15:00 and 16:00 (3:00 - 4:00 pm)."
   ]
  }
 ],
 "metadata": {
  "kernelspec": {
   "display_name": "Python 3",
   "language": "python",
   "name": "python3"
  },
  "language_info": {
   "codemirror_mode": {
    "name": "ipython",
    "version": 3
   },
   "file_extension": ".py",
   "mimetype": "text/x-python",
   "name": "python",
   "nbconvert_exporter": "python",
   "pygments_lexer": "ipython3",
   "version": "3.7.2"
  }
 },
 "nbformat": 4,
 "nbformat_minor": 2
}
